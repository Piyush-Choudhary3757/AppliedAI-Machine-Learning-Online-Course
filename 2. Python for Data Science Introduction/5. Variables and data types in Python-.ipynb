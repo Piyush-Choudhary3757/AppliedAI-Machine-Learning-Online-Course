{
 "cells": [
  {
   "cell_type": "code",
   "execution_count": null,
   "metadata": {},
   "outputs": [],
   "source": [
    "#Variable Assignments\n",
    "#We use the assignment operator ( = ) to assign values to a variable\n",
    "a =  10\n",
    "b =  5.5\n",
    "c = \"ML\""
   ]
  },
  {
   "cell_type": "code",
   "execution_count": null,
   "metadata": {},
   "outputs": [],
   "source": [
    "#Multiple Assignments\n",
    "a,b,c = 10,5.5, \"ML\"\n",
    "a=b=c =\"AI\" #assign the same value to multiple variables at once"
   ]
  }
 ],
 "metadata": {
  "language_info": {
   "name": "python"
  },
  "orig_nbformat": 4
 },
 "nbformat": 4,
 "nbformat_minor": 2
}
