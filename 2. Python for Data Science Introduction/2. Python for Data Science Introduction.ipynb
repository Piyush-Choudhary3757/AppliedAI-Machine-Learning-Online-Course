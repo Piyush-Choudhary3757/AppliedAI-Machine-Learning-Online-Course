{
 "cells": [
  {
   "cell_type": "code",
   "execution_count": 1,
   "metadata": {},
   "outputs": [],
   "source": [
    "##WE are going to setting up the system here."
   ]
  },
  {
   "cell_type": "code",
   "execution_count": 2,
   "metadata": {},
   "outputs": [],
   "source": [
    "#Lets install the package we need\n"
   ]
  },
  {
   "cell_type": "code",
   "execution_count": 2,
   "metadata": {},
   "outputs": [],
   "source": [
    "#ip3 install pandas \n",
    "#pip3 install matplotlib\n",
    "#pip3 install nltk\n",
    "#pip3 install numpy\n",
    "#pip3 install scipy\n",
    "#pip3 install scikit-learn\n",
    "#pip3 install seaborn\n",
    "#pip3 install –upgrade tensorflow ( refer this on any error ) Note: there are two ‘-‘ before upgrade\n",
    "#pip3 install keras\n",
    "#pip3 install Pillow\n",
    "#pip3 install plotly (if it doesn’t work, please open anaconda prompt and try 'conde install plotly')###\n"
   ]
  },
  {
   "cell_type": "code",
   "execution_count": null,
   "metadata": {},
   "outputs": [],
   "source": []
  }
 ],
 "metadata": {
  "kernelspec": {
   "display_name": "Python 3",
   "language": "python",
   "name": "python3"
  },
  "language_info": {
   "codemirror_mode": {
    "name": "ipython",
    "version": 3
   },
   "file_extension": ".py",
   "mimetype": "text/x-python",
   "name": "python",
   "nbconvert_exporter": "python",
   "pygments_lexer": "ipython3",
   "version": "3.7.9"
  },
  "orig_nbformat": 4
 },
 "nbformat": 4,
 "nbformat_minor": 2
}
