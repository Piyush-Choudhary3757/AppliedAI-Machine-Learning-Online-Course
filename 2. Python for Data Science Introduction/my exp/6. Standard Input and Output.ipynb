{
 "cells": [
  {
   "cell_type": "code",
   "execution_count": 2,
   "metadata": {},
   "outputs": [
    {
     "name": "stdout",
     "output_type": "stream",
     "text": [
      "Hello World\n"
     ]
    }
   ],
   "source": [
    "#pritn Output\n",
    "print(\"Hello World\")"
   ]
  },
  {
   "cell_type": "code",
   "execution_count": 10,
   "metadata": {},
   "outputs": [
    {
     "name": "stdout",
     "output_type": "stream",
     "text": [
      "The value of a is  10\n",
      "The value of a is 10\n"
     ]
    }
   ],
   "source": [
    "a = 10 \n",
    "print(\"The value of a is \", a )\n",
    "print(\"The value of a is \"+ str(a))"
   ]
  },
  {
   "cell_type": "code",
   "execution_count": 11,
   "metadata": {},
   "outputs": [
    {
     "name": "stdout",
     "output_type": "stream",
     "text": [
      "The value of a is 10 \n"
     ]
    }
   ],
   "source": [
    "#Output Formatting\n",
    "a = 10; b = 20 #Multiple statments in single line.\n",
    "\n",
    "print(\"The value of a is {} \" .format(a,b)) #default"
   ]
  },
  {
   "cell_type": "code",
   "execution_count": 12,
   "metadata": {},
   "outputs": [
    {
     "name": "stdout",
     "output_type": "stream",
     "text": [
      "The value of a is 20 and a is 10 \n"
     ]
    }
   ],
   "source": [
    "#Output Formatting\n",
    "a = 10; b = 20 #Multiple statments in single line.\n",
    "\n",
    "print(\"The value of a is {1} and a is {0} \" .format(a,b)) #specific Position "
   ]
  },
  {
   "cell_type": "code",
   "execution_count": 13,
   "metadata": {},
   "outputs": [
    {
     "name": "stdout",
     "output_type": "stream",
     "text": [
      "Hello Piyush, Good morning\n"
     ]
    }
   ],
   "source": [
    "#Can use keyword arguments to format the string\n",
    "print(\"Hello {name}, {greeting}\". format(name = \"Piyush\", greeting =\"Good morning\"))"
   ]
  },
  {
   "cell_type": "code",
   "execution_count": 15,
   "metadata": {},
   "outputs": [
    {
     "name": "stdout",
     "output_type": "stream",
     "text": [
      "The story of Bill, Manfred and Georg\n"
     ]
    }
   ],
   "source": [
    "# 'we can combine positional arguments with keyword arguments\n",
    "print('The story of {0}, {1} and {other}' .format('Bill', 'Manfred', other= 'Georg'))"
   ]
  },
  {
   "cell_type": "code",
   "execution_count": 16,
   "metadata": {},
   "outputs": [
    {
     "name": "stdout",
     "output_type": "stream",
     "text": [
      "12\n"
     ]
    }
   ],
   "source": [
    "num = input(\"Enter a number: \")\n",
    "print(num)"
   ]
  },
  {
   "cell_type": "code",
   "execution_count": null,
   "metadata": {},
   "outputs": [],
   "source": []
  }
 ],
 "metadata": {
  "kernelspec": {
   "display_name": "Python 3",
   "language": "python",
   "name": "python3"
  },
  "language_info": {
   "codemirror_mode": {
    "name": "ipython",
    "version": 3
   },
   "file_extension": ".py",
   "mimetype": "text/x-python",
   "name": "python",
   "nbconvert_exporter": "python",
   "pygments_lexer": "ipython3",
   "version": "3.7.9"
  },
  "orig_nbformat": 4
 },
 "nbformat": 4,
 "nbformat_minor": 2
}
