{
 "cells": [
  {
   "attachments": {},
   "cell_type": "markdown",
   "metadata": {},
   "source": [
    "Practice Questions On Functions"
   ]
  },
  {
   "attachments": {},
   "cell_type": "markdown",
   "metadata": {},
   "source": [
    "1. Write a function that inputs a number and prints the multiplication table of that number"
   ]
  },
  {
   "cell_type": "code",
   "execution_count": 5,
   "metadata": {},
   "outputs": [
    {
     "name": "stdout",
     "output_type": "stream",
     "text": [
      "4 x 1 = 4\n",
      "4 x 2 = 8\n",
      "4 x 3 = 12\n",
      "4 x 4 = 16\n",
      "4 x 5 = 20\n",
      "4 x 6 = 24\n",
      "4 x 7 = 28\n",
      "4 x 8 = 32\n",
      "4 x 9 = 36\n",
      "4 x 10 = 40\n",
      "None\n"
     ]
    }
   ],
   "source": [
    "def  table(num):\n",
    "     \"\"\" This function prints multiplication table of a given number\"\"\"\n",
    "     for i in range(1,11):\n",
    "        print(num,'x',i,'=',num*i)\n",
    "\n",
    "n = int(input())\n",
    "\n",
    "print(table(n))\n"
   ]
  },
  {
   "attachments": {},
   "cell_type": "markdown",
   "metadata": {},
   "source": [
    "2. Write a program to print twin primes less than 1000. If two consecutive odd numbers are \n",
    "both prime then they are known as twin primes"
   ]
  },
  {
   "cell_type": "code",
   "execution_count": 10,
   "metadata": {},
   "outputs": [
    {
     "name": "stdout",
     "output_type": "stream",
     "text": [
      "(3, 5)\n",
      "(5, 7)\n",
      "(11, 13)\n",
      "(17, 19)\n",
      "(29, 31)\n",
      "(41, 43)\n",
      "(59, 61)\n",
      "(71, 73)\n",
      "(101, 103)\n",
      "(107, 109)\n",
      "(137, 139)\n",
      "(149, 151)\n",
      "(179, 181)\n",
      "(191, 193)\n",
      "(197, 199)\n",
      "(227, 229)\n",
      "(239, 241)\n",
      "(269, 271)\n",
      "(281, 283)\n",
      "(311, 313)\n",
      "(347, 349)\n",
      "(419, 421)\n",
      "(431, 433)\n",
      "(461, 463)\n",
      "(521, 523)\n",
      "(569, 571)\n",
      "(599, 601)\n",
      "(617, 619)\n",
      "(641, 643)\n",
      "(659, 661)\n",
      "(809, 811)\n",
      "(821, 823)\n",
      "(827, 829)\n",
      "(857, 859)\n",
      "(881, 883)\n"
     ]
    }
   ],
   "source": [
    "def is_prime(n):\n",
    "    \"\"\"\n",
    "    A helper function to check if a number is prime.\n",
    "    \"\"\"\n",
    "    if n < 2:\n",
    "        return False\n",
    "    for i in range(2, int(n**0.5)+1):\n",
    "        if n% i == 0:\n",
    "            return False\n",
    "    return True\n",
    "\n",
    "def print_twin_primes():\n",
    "    \"\"\"\n",
    "    A function to print all twin primes less than 1000.\n",
    "    \"\"\"\n",
    "    for i in range(3, 1000, 2):\n",
    "        if is_prime(i) and is_prime(i+2):\n",
    "            print(f\"({i}, {i+2})\")\n",
    "\n",
    "print_twin_primes()"
   ]
  },
  {
   "cell_type": "code",
   "execution_count": null,
   "metadata": {},
   "outputs": [],
   "source": []
  }
 ],
 "metadata": {
  "kernelspec": {
   "display_name": "Python 3",
   "language": "python",
   "name": "python3"
  },
  "language_info": {
   "codemirror_mode": {
    "name": "ipython",
    "version": 3
   },
   "file_extension": ".py",
   "mimetype": "text/x-python",
   "name": "python",
   "nbconvert_exporter": "python",
   "pygments_lexer": "ipython3",
   "version": "3.7.9"
  },
  "orig_nbformat": 4
 },
 "nbformat": 4,
 "nbformat_minor": 2
}
