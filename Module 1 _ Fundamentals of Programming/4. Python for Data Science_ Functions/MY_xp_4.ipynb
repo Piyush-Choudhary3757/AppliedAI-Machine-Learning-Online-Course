{
 "cells": [
  {
   "cell_type": "code",
   "execution_count": 11,
   "metadata": {},
   "outputs": [],
   "source": [
    "def pr_name(name):\n",
    "    \"\"\"\n",
    "    print the name of the \n",
    "\n",
    "    \"\"\"\n",
    "    print (\"hello\" +str(name))"
   ]
  },
  {
   "cell_type": "code",
   "execution_count": 12,
   "metadata": {},
   "outputs": [
    {
     "name": "stdout",
     "output_type": "stream",
     "text": [
      "hellopi\n"
     ]
    }
   ],
   "source": [
    "pr_name(\"pi\")"
   ]
  },
  {
   "cell_type": "code",
   "execution_count": 13,
   "metadata": {},
   "outputs": [
    {
     "name": "stdout",
     "output_type": "stream",
     "text": [
      "\n",
      "    print the name of the \n",
      "\n",
      "    \n"
     ]
    }
   ],
   "source": [
    "print(pr_name.__doc__)"
   ]
  },
  {
   "cell_type": "code",
   "execution_count": 14,
   "metadata": {},
   "outputs": [],
   "source": [
    "def get_sum(lst):\n",
    "    \"\"\"\n",
    "    \"\"\"\n",
    "    _sum = 0\n",
    "\n",
    "    for num in lst:\n",
    "        _sum += num\n",
    "    return _sum"
   ]
  },
  {
   "cell_type": "code",
   "execution_count": 16,
   "metadata": {},
   "outputs": [
    {
     "name": "stdout",
     "output_type": "stream",
     "text": [
      "55\n"
     ]
    }
   ],
   "source": [
    "s = get_sum([1,2,3,4,5,6,7,8,9,10])\n",
    "print(s)"
   ]
  },
  {
   "cell_type": "code",
   "execution_count": 19,
   "metadata": {},
   "outputs": [
    {
     "name": "stdout",
     "output_type": "stream",
     "text": [
      "HCF of 98 and 78 is : 1 \n"
     ]
    }
   ],
   "source": [
    "def computHCF(a,b):\n",
    "    \"\"\"\n",
    "    \"\"\"\n",
    "    smaller = b if a > b else a\n",
    "\n",
    "    hcf = 1\n",
    "    for i in range(1, smaller+1):\n",
    "        if (a % i == 0) and (b % i == 0):\n",
    "            hcf = i\n",
    "        return hcf\n",
    "\n",
    "num1 = 98\n",
    "num2 = 78\n",
    "\n",
    "print (\"HCF of {0} and {1} is : {2} \".format(num1, num2, computHCF(num1, num2)))"
   ]
  },
  {
   "attachments": {},
   "cell_type": "markdown",
   "metadata": {},
   "source": [
    "2. Types of functions-getstudyfever"
   ]
  },
  {
   "cell_type": "markdown",
   "metadata": {},
   "source": []
  },
  {
   "cell_type": "markdown",
   "metadata": {},
   "source": [
    "# Types Of Functions"
   ]
  },
  {
   "cell_type": "code",
   "execution_count": 20,
   "metadata": {},
   "outputs": [
    {
     "name": "stdout",
     "output_type": "stream",
     "text": [
      "100\n"
     ]
    }
   ],
   "source": [
    "num = -100\n",
    "print(abs(num))"
   ]
  },
  {
   "cell_type": "code",
   "execution_count": 21,
   "metadata": {},
   "outputs": [
    {
     "name": "stdout",
     "output_type": "stream",
     "text": [
      "True\n"
     ]
    }
   ],
   "source": [
    "lst = [1,2,3,4,5,]\n",
    "print(all(lst))"
   ]
  },
  {
   "cell_type": "code",
   "execution_count": 22,
   "metadata": {},
   "outputs": [
    {
     "name": "stdout",
     "output_type": "stream",
     "text": [
      "['__add__', '__class__', '__contains__', '__delattr__', '__delitem__', '__dir__', '__doc__', '__eq__', '__format__', '__ge__', '__getattribute__', '__getitem__', '__gt__', '__hash__', '__iadd__', '__imul__', '__init__', '__init_subclass__', '__iter__', '__le__', '__len__', '__lt__', '__mul__', '__ne__', '__new__', '__reduce__', '__reduce_ex__', '__repr__', '__reversed__', '__rmul__', '__setattr__', '__setitem__', '__sizeof__', '__str__', '__subclasshook__', 'append', 'clear', 'copy', 'count', 'extend', 'index', 'insert', 'pop', 'remove', 'reverse', 'sort']\n"
     ]
    }
   ],
   "source": [
    "num = [1,2,3,4,5,6,7,8,9,10]\n",
    "print(dir(num))"
   ]
  },
  {
   "cell_type": "code",
   "execution_count": 24,
   "metadata": {},
   "outputs": [
    {
     "name": "stdout",
     "output_type": "stream",
     "text": [
      "(1, 2)\n"
     ]
    }
   ],
   "source": [
    "print(divmod(5,3))\n"
   ]
  },
  {
   "cell_type": "code",
   "execution_count": 26,
   "metadata": {},
   "outputs": [
    {
     "name": "stdout",
     "output_type": "stream",
     "text": [
      "index0 has value 10\n",
      "index1 has value 20\n",
      "index2 has value 30\n",
      "index3 has value 40\n",
      "index4 has value 50\n",
      "index5 has value 60\n",
      "index6 has value 70\n",
      "index7 has value 80\n"
     ]
    }
   ],
   "source": [
    "num=[10,20,30,40,50,60,70,80]\n",
    "for index, num in enumerate(num):\n",
    "    print(\"index{0} has value {1}\".format(index,num))"
   ]
  },
  {
   "cell_type": "code",
   "execution_count": 37,
   "metadata": {},
   "outputs": [],
   "source": [
    "def find_positive_num(num):\n",
    "    \"\"\" \n",
    "    \"\"\"\n",
    "    if num>0:\n",
    "        return num"
   ]
  },
  {
   "cell_type": "code",
   "execution_count": 38,
   "metadata": {},
   "outputs": [
    {
     "name": "stdout",
     "output_type": "stream",
     "text": [
      "[-10, -9, -8, -7, -6, -5, -4, -3, -2, -1, 0, 1, 2, 3, 4, 5, 6, 7, 8, 9]\n",
      "[1, 2, 3, 4, 5, 6, 7, 8, 9]\n"
     ]
    }
   ],
   "source": [
    "num_list = range(-10,10)\n",
    "print(list(num_list))\n",
    "\n",
    "positive_num_lst = list(filter(find_positive_num, num_list))\n",
    "\n",
    "print(positive_num_lst)"
   ]
  },
  {
   "cell_type": "code",
   "execution_count": 47,
   "metadata": {},
   "outputs": [
    {
     "name": "stdout",
     "output_type": "stream",
     "text": [
      "True\n"
     ]
    }
   ],
   "source": [
    "lst = [1,2,3,4,5,6,7,8,9,10]\n",
    "print (isinstance(lst,list))\n"
   ]
  },
  {
   "cell_type": "code",
   "execution_count": 48,
   "metadata": {},
   "outputs": [
    {
     "name": "stdout",
     "output_type": "stream",
     "text": [
      "[1, 4, 9, 16, 25, 36, 49, 64, 81, 100]\n"
     ]
    }
   ],
   "source": [
    "lst = [1,2,3,4,5,6,7,8,9,10]\n",
    "squ = []\n",
    "\n",
    "for num in lst:\n",
    "    squ.append(num ** 2)\n",
    "\n",
    "print (squ)"
   ]
  },
  {
   "cell_type": "code",
   "execution_count": 53,
   "metadata": {},
   "outputs": [
    {
     "name": "stdout",
     "output_type": "stream",
     "text": [
      "[1, 4, 9, 16, 25, 36, 49, 64, 81, 100]\n"
     ]
    }
   ],
   "source": [
    "lst = [1,2,3,4,5,6,7,8,9,10] \n",
    "\n",
    "def poweroftwo(num):\n",
    "    return num **2\n",
    "squares = list(map(poweroftwo,lst))\n",
    "\n",
    "print (squares)"
   ]
  },
  {
   "cell_type": "code",
   "execution_count": 54,
   "metadata": {},
   "outputs": [
    {
     "name": "stdout",
     "output_type": "stream",
     "text": [
      "3628800\n"
     ]
    }
   ],
   "source": [
    "product = 1\n",
    "lst = [1,2,3,4,5,6,7,8,9,10]\n",
    "for num in lst:\n",
    "    product *= num\n",
    "print(product)"
   ]
  },
  {
   "cell_type": "code",
   "execution_count": 59,
   "metadata": {},
   "outputs": [
    {
     "name": "stdout",
     "output_type": "stream",
     "text": [
      "3628800\n"
     ]
    }
   ],
   "source": [
    "from functools import reduce\n",
    "def multiply(x,y):\n",
    "    return x*y\n",
    "product = reduce(multiply,lst)\n",
    "\n",
    "print(product)"
   ]
  },
  {
   "cell_type": "code",
   "execution_count": 63,
   "metadata": {},
   "outputs": [
    {
     "name": "stdout",
     "output_type": "stream",
     "text": [
      "sellect opption 1,2,3\n",
      "mul of 12.0 and 31.0 is 372.0\n"
     ]
    }
   ],
   "source": [
    "def add (x,y):\n",
    "    return x + y\n",
    "def multiply (x,y):\n",
    "    return x * y\n",
    "def subtract (x,y):\n",
    "    return x - y\n",
    "print(\"sellect opption 1,2,3\")\n",
    "choise = int(input(\"enter 1/2/3\"))\n",
    "\n",
    "num1 = float(input(\"enter first letter\"))\n",
    "num2 = float(input(\"enter second letter\"))\n",
    "\n",
    "if choise == 1:\n",
    "    print(\"add of {0} and {1} is {2}\".format(num1, num2, add(num1, num2)))\n",
    "elif choise == 2:\n",
    "    print(\"mul of {0} and {1} is {2}\".format(num1, num2, multiply(num1, num2)))\n",
    "elif choise == 3:\n",
    "    print(\"sub of {0} and {1} is {2}\".format(num1, num2, subtract(num1, num2)))\n",
    "#jiidhjaaskldjaofa"
   ]
  },
  {
   "attachments": {},
   "cell_type": "markdown",
   "metadata": {},
   "source": [
    "3"
   ]
  },
  {
   "cell_type": "code",
   "execution_count": 2,
   "metadata": {},
   "outputs": [],
   "source": [
    "#3 Function arguments\n",
    "\n",
    "def greet(name, msg):\n",
    "    print (\"Hello {0},{1}\".format(name, msg))"
   ]
  },
  {
   "cell_type": "code",
   "execution_count": 13,
   "metadata": {},
   "outputs": [
    {
     "name": "stdout",
     "output_type": "stream",
     "text": [
      "Hello satish,Good morning\n"
     ]
    }
   ],
   "source": [
    "greet(\"satish\", \"Good morning\")"
   ]
  },
  {
   "cell_type": "code",
   "execution_count": 22,
   "metadata": {},
   "outputs": [],
   "source": [
    "def greeting(name, msg= \"good morning\"):\n",
    "    print(\"hello {0},{1}\".format(name,msg))"
   ]
  },
  {
   "cell_type": "code",
   "execution_count": 19,
   "metadata": {},
   "outputs": [
    {
     "name": "stdout",
     "output_type": "stream",
     "text": [
      "hello piyush,good morning\n"
     ]
    }
   ],
   "source": [
    "greeting(\"piyush\")"
   ]
  },
  {
   "cell_type": "code",
   "execution_count": 27,
   "metadata": {},
   "outputs": [
    {
     "name": "stdout",
     "output_type": "stream",
     "text": [
      "hello piyush,good bye\n"
     ]
    }
   ],
   "source": [
    "def greet(**kwargs):\n",
    "    if kwargs:\n",
    "        print(\"hello {0},{1}\".format(kwargs[\"name\"],kwargs[\"msg\"]))\n",
    "greet(name=\"piyush\", msg=\"good bye\")"
   ]
  },
  {
   "cell_type": "code",
   "execution_count": 28,
   "metadata": {},
   "outputs": [],
   "source": [
    "def greet(*names) :\n",
    "    print(names)\n",
    "\n",
    "    for names in names :\n",
    "        print(\"hello, {0} \".format(names))\n",
    "\n",
    "    greet(\"satish\", \"king\",\"naveen\", \"srikanth\")"
   ]
  },
  {
   "cell_type": "code",
   "execution_count": 29,
   "metadata": {},
   "outputs": [],
   "source": [
    "#4 recurison"
   ]
  },
  {
   "cell_type": "code",
   "execution_count": 44,
   "metadata": {},
   "outputs": [
    {
     "name": "stdout",
     "output_type": "stream",
     "text": [
      "Factorial of 5 is 120 \n"
     ]
    }
   ],
   "source": [
    "def factorial(num):\n",
    "    return 1 if num == 1 else (num * factorial(num-1))\n",
    "num = 5\n",
    "print (\"Factorial of {0} is {1} \".format(num, factorial(num)))"
   ]
  },
  {
   "cell_type": "code",
   "execution_count": 48,
   "metadata": {},
   "outputs": [
    {
     "name": "stdout",
     "output_type": "stream",
     "text": [
      "Fibonacci Sequence\n",
      "0\n",
      "1\n",
      "1\n",
      "2\n",
      "3\n",
      "5\n",
      "8\n",
      "13\n",
      "21\n",
      "34\n"
     ]
    }
   ],
   "source": [
    "def fibonacci(num):\n",
    "    return num if num <=1 else fibonacci(num-1) + fibonacci(num-2)\n",
    "\n",
    "nterms = 10\n",
    "print(\"Fibonacci Sequence\")\n",
    "for num in range(nterms):\n",
    "    print(fibonacci(num))"
   ]
  },
  {
   "cell_type": "code",
   "execution_count": null,
   "metadata": {},
   "outputs": [],
   "source": []
  }
 ],
 "metadata": {
  "kernelspec": {
   "display_name": "Python 3",
   "language": "python",
   "name": "python3"
  },
  "language_info": {
   "codemirror_mode": {
    "name": "ipython",
    "version": 3
   },
   "file_extension": ".py",
   "mimetype": "text/x-python",
   "name": "python",
   "nbconvert_exporter": "python",
   "pygments_lexer": "ipython3",
   "version": "3.7.9"
  },
  "orig_nbformat": 4
 },
 "nbformat": 4,
 "nbformat_minor": 2
}
