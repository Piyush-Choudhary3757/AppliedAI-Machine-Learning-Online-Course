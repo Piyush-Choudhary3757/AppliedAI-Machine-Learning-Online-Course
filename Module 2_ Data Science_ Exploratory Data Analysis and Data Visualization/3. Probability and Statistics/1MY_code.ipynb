{
 "cells": [
  {
   "attachments": {},
   "cell_type": "markdown",
   "metadata": {},
   "source": [
    "Empirical bootstrap based Confidence Interval"
   ]
  },
  {
   "cell_type": "code",
   "execution_count": 2,
   "metadata": {},
   "outputs": [],
   "source": [
    "import numpy\n",
    "from pandas import read_csv\n",
    "from sklearn.utils import resample\n",
    "from sklearn. metrics import accuracy_score\n",
    "from matplotlib import pyplot"
   ]
  },
  {
   "cell_type": "code",
   "execution_count": 3,
   "metadata": {},
   "outputs": [
    {
     "data": {
      "image/png": "[encoded data removed]",
      "text/plain": [
       "<Figure size 432x288 with 1 Axes>"
      ]
     },
     "metadata": {
      "needs_background": "light"
     },
     "output_type": "display_data"
    },
    {
     "name": "stdout",
     "output_type": "stream",
     "text": [
      "95.0 confidence interval 1611 and 1761\n"
     ]
    }
   ],
   "source": [
    "#load dataset\n",
    "x = numpy.array([180,162,158,172,168,150,171,183,165,176])\n",
    "\n",
    "#configer Bootstrap\n",
    "n_iterations = 1000\n",
    "n_size = int(len(x))\n",
    "\n",
    "#run bootstrap\n",
    "medians = list()\n",
    "for i in range(n_iterations):\n",
    "    #prepare train and test sete\n",
    "    s = resample(x, n_samples= n_size);\n",
    "    m = numpy.median(s);\n",
    "    #print(m)\n",
    "    medians.append(m)\n",
    "\n",
    "#plot scores \n",
    "pyplot.hist(medians)\n",
    "pyplot.show()\n",
    "\n",
    "#confidence interval\n",
    "alpha = 0.95\n",
    "p = ((1.0-alpha)/2.0)*100\n",
    "lower = numpy.percentile(medians,p)\n",
    "\n",
    "p = (alpha+(1.0-alpha)/2.0)*100\n",
    "upper = numpy.percentile(medians,p)\n",
    "print(\"%.1f confidence interval %.f1 and %.f1\" % (alpha*100,lower,upper))"
   ]
  },
  {
   "cell_type": "code",
   "execution_count": null,
   "metadata": {},
   "outputs": [],
   "source": []
  },
  {
   "cell_type": "code",
   "execution_count": null,
   "metadata": {},
   "outputs": [],
   "source": []
  }
 ],
 "metadata": {
  "kernelspec": {
   "display_name": "Python 3",
   "language": "python",
   "name": "python3"
  },
  "language_info": {
   "codemirror_mode": {
    "name": "ipython",
    "version": 3
   },
   "file_extension": ".py",
   "mimetype": "text/x-python",
   "name": "python",
   "nbconvert_exporter": "python",
   "pygments_lexer": "ipython3",
   "version": "3.7.9"
  },
  "orig_nbformat": 4
 },
 "nbformat": 4,
 "nbformat_minor": 2
}
